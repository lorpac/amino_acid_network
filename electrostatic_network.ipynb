{
 "cells": [
  {
   "cell_type": "markdown",
   "metadata": {},
   "source": [
    "# Electrostatic network"
   ]
  },
  {
   "cell_type": "markdown",
   "metadata": {},
   "source": [
    "In this notebook, the Electrostatic Network of a protein structure is created, starting from its Amino Acid Network."
   ]
  },
  {
   "cell_type": "code",
   "execution_count": 1,
   "metadata": {},
   "outputs": [],
   "source": [
    "import sys\n",
    "import os\n",
    "import tools.structure_analysis_tools as sa\n",
    "import tools.network_visualization as nv\n",
    "import tools.helpers as helpers\n",
    "\n",
    "import pickle\n",
    "import networkx as nx\n",
    "import numpy as np\n",
    "import pandas as pd\n",
    "from Bio.PDB import PDBList\n",
    "import biographs as bg"
   ]
  },
  {
   "cell_type": "markdown",
   "metadata": {},
   "source": [
    "The first step is to read the configuration file. The configuration file has to be named `electrostatic_network_config.json` and present in the main folder. A template for the configuration is available in the file `electrostatic_network_config_template.json`. The following parameters are set in the configuration file:"
   ]
  },
  {
   "cell_type": "markdown",
   "metadata": {},
   "source": [
    "- `name`: a name of your analysis\n",
    "- `pdb_id`: either a `.pdb` or `.ent` file name found in `data/`, or a valid PDB identifier. Note: in the second casem a internet connection will be needed to download the required pdb structure from the [RCSB database](http://www.rcsb.org/).\n",
    "- `pdbs_path`: path to the PDB files. If None, PDB are assumed to be in `data/pdbs`.\n",
    "- `cutoff`: cutoff distance to determine the connectivity between amino acids in the AAN.\n",
    "- `select positions`: boolean.\n",
    "  - If `select positions` is true: `start` and `stop` are the sequence positions to start and stop the analysis\n",
    "- `dim`: type of links to consider. Valid options are: `all` (or an empty string, all links), `1D` (between first neighbors in the sequence), `2D` (between amino acids belonging to the same secondary structure element), `3D` (between amino acids belonging to the same chain but to the different secondary structure elements), `4D` (between amino acids belonging to different chains), `3-4D` (3D and 4D), `1-2D` (3D and 4D).\n",
    "- `charged_histidine`: boolean. Determines whether HIS residues should be considered as charged or not.\n",
    "- `charged_Nter`: boolean. Determines whether the N-terminus residue should be considered as charged or not.\n",
    "- `charged_Cter`: boolean. Determines whether the C-terminus residue should be considered as charged or not.\n",
    "- `selected_chain_subnet`: string or None. If string, name of one chain. If not None, a subnetwork including only nodes of the chain and it neighbors is saved as a .gexf file for visualization. "
   ]
  },
  {
   "cell_type": "code",
   "execution_count": 2,
   "metadata": {},
   "outputs": [],
   "source": [
    "# Read configuration file\n",
    "config_file = \"electrostatic_network_config.json\"\n",
    "parameters = helpers.get_configuration_parameters(config_file)"
   ]
  },
  {
   "cell_type": "code",
   "execution_count": 3,
   "metadata": {},
   "outputs": [
    {
     "name": "stdout",
     "output_type": "stream",
     "text": [
      "name \t CtxB5\n",
      "pdb_id \t 1eei\n",
      "pdbs_path \t None\n",
      "cutoff \t 5\n",
      "select_positions \t True\n",
      "start \t 1\n",
      "stop \t 104\n",
      "dim \t all\n",
      "charged_histidine \t False\n",
      "charged_Nter \t True\n",
      "charged_Cter \t True\n",
      "selected_chain_subnet \t E\n"
     ]
    }
   ],
   "source": [
    "name = parameters['name']\n",
    "pdb_id = parameters[\"pdb_id\"]\n",
    "pdbs_path = parameters[\"pdbs_path\"]\n",
    "cutoff = parameters[\"cutoff\"]\n",
    "select_positions = parameters[\"select_positions\"]\n",
    "if select_positions:\n",
    "    start = parameters[\"start\"]\n",
    "    stop = parameters[\"stop\"]\n",
    "    selected_positions = range(start, stop)\n",
    "else:\n",
    "    selected_positions = None\n",
    "dim = parameters['dim']\n",
    "if dim == \"all\":\n",
    "    dim = \"\"\n",
    "rel_list = sa.list_relations(dim)\n",
    "charged_histidine = parameters[\"charged_histidine\"]\n",
    "charged_Nter = parameters[\"charged_Nter\"]\n",
    "charged_Cter = parameters[\"charged_Cter\"]\n",
    "if charged_histidine:\n",
    "    folder_path = os.path.join(name, dim + 'dipoles_withHIS')\n",
    "else:\n",
    "    folder_path = os.path.join(name, dim + 'dipoles_noHIS')\n",
    "folder_path = os.path.join(\"results\", folder_path)\n",
    "os.makedirs(folder_path, exist_ok=True)\n",
    "selected_chain_subnet = parameters[\"selected_chain_subnet\"]\n",
    "\n",
    "helpers.save_configuration_parameters(config_file, folder_path)\n",
    "\n",
    "for k, v in parameters.items():\n",
    "    print(k, \"\\t\", v)"
   ]
  },
  {
   "cell_type": "code",
   "execution_count": 4,
   "metadata": {
    "scrolled": false
   },
   "outputs": [
    {
     "name": "stdout",
     "output_type": "stream",
     "text": [
      "Downloading PDB structure '1eei'...\n",
      "AAN created\n",
      "N. nodes:  515\n",
      "N. edges:  2873\n"
     ]
    }
   ],
   "source": [
    "# create aa network and save database of its aa (2 formats)\n",
    "net, db_1, db_2, mol, downloaded = sa.create_aa_network(pdb_id, rel_list,\n",
    "                                                    folder_path,\n",
    "                                                    selected_positions=selected_positions,\n",
    "                                                    cutoff=cutoff,\n",
    "                                                    pdbs_path=pdbs_path,\n",
    "                                                    save_csv=False)\n",
    "\n",
    "print(\"AAN created\")\n",
    "print(\"N. nodes: \", len(net.nodes))\n",
    "print(\"N. edges: \", len(net.edges))"
   ]
  },
  {
   "cell_type": "markdown",
   "metadata": {},
   "source": [
    "Annotate charged residues"
   ]
  },
  {
   "cell_type": "code",
   "execution_count": 5,
   "metadata": {},
   "outputs": [],
   "source": [
    "nodes_charge = {}\n",
    "indices_charged = []\n",
    "\n",
    "Nter = 1\n",
    "Cter = max([int(n[1::]) for n in net.nodes])\n",
    "\n",
    "for n in net.nodes:\n",
    "    info = db_2[db_2[\"Position\"] == n]\n",
    "    type_res = info[\"Type of residue\"].values[0]\n",
    "    index = info.index[0]\n",
    "    if type_res in [\"ARG\", \"LYS\"]:\n",
    "        charge = 1\n",
    "    elif type_res in [\"ASP\", \"GLU\"]:\n",
    "        charge = -1\n",
    "    elif type_res == \"HIS\" and charged_histidine:\n",
    "        charge = 1\n",
    "    else:\n",
    "        if int(n[1::]) == Nter and charged_Nter:\n",
    "            charge = 1\n",
    "        elif int(n[1::]) == Cter and charged_Cter:\n",
    "            charge = -1\n",
    "        else:\n",
    "            charge = 0\n",
    "    db_2.loc[index, \"Charge\"] = charge\n",
    "    nodes_charge[n] = (type_res, charge)\n",
    "    if charge == 0:\n",
    "        continue\n",
    "    indices_charged.append(index)"
   ]
  },
  {
   "cell_type": "code",
   "execution_count": 6,
   "metadata": {},
   "outputs": [],
   "source": [
    "charged_df = db_2.iloc[indices_charged][['Residue name','Position', 'Sequence position',\n",
    "                                         'Type of residue', 'Degree', 'Weight',\n",
    "                                         'Weight/Degree', 'Atomic number',\n",
    "                                         'Secondary structure', 'Charge']]"
   ]
  },
  {
   "cell_type": "markdown",
   "metadata": {},
   "source": [
    "Count how many times edges appear (we'll remove edges that appear less than $n_{chains}$ - 1 times and add chains that appear $n_{chains}$ - 1 times where missing.)"
   ]
  },
  {
   "cell_type": "code",
   "execution_count": 7,
   "metadata": {},
   "outputs": [],
   "source": [
    "chains_list = sorted(list(set([n[0] for n in net.nodes])))"
   ]
  },
  {
   "cell_type": "code",
   "execution_count": 8,
   "metadata": {},
   "outputs": [],
   "source": [
    "count_edges = {}\n",
    "for u, v in net.edges:\n",
    "    u, v = sorted((u, v))\n",
    "    chain_u = u[0]\n",
    "    chain_v = v[0]\n",
    "    if chain_u != chain_v:\n",
    "        edge_type = \"inter\"\n",
    "    else:\n",
    "        edge_type = \"intra\"\n",
    "    pos_u = u[1:]\n",
    "    pos_v = v[1:]\n",
    "    try:\n",
    "        count_edges[(pos_u, pos_v, edge_type)]+= 1\n",
    "    except KeyError:\n",
    "        count_edges[(pos_u, pos_v, edge_type)] = 1"
   ]
  },
  {
   "cell_type": "markdown",
   "metadata": {},
   "source": [
    "Subnetwork of charged residues:"
   ]
  },
  {
   "cell_type": "code",
   "execution_count": 9,
   "metadata": {},
   "outputs": [],
   "source": [
    "dipoles_net = nx.Graph()"
   ]
  },
  {
   "cell_type": "code",
   "execution_count": 10,
   "metadata": {},
   "outputs": [
    {
     "ename": "NameError",
     "evalue": "name 'selected_chains' is not defined",
     "output_type": "error",
     "traceback": [
      "\u001b[1;31m---------------------------------------------------------------------------\u001b[0m",
      "\u001b[1;31mNameError\u001b[0m                                 Traceback (most recent call last)",
      "\u001b[1;32m<ipython-input-10-04f0efc0a653>\u001b[0m in \u001b[0;36m<module>\u001b[1;34m\u001b[0m\n\u001b[0;32m      1\u001b[0m \u001b[1;32mfor\u001b[0m \u001b[0mn\u001b[0m\u001b[1;33m,\u001b[0m \u001b[1;33m(\u001b[0m\u001b[0mres_type\u001b[0m\u001b[1;33m,\u001b[0m \u001b[0mcharge\u001b[0m\u001b[1;33m)\u001b[0m \u001b[1;32min\u001b[0m \u001b[0mnodes_charge\u001b[0m\u001b[1;33m.\u001b[0m\u001b[0mitems\u001b[0m\u001b[1;33m(\u001b[0m\u001b[1;33m)\u001b[0m\u001b[1;33m:\u001b[0m\u001b[1;33m\u001b[0m\u001b[1;33m\u001b[0m\u001b[0m\n\u001b[0;32m      2\u001b[0m     \u001b[1;32mif\u001b[0m \u001b[0mcharge\u001b[0m \u001b[1;33m!=\u001b[0m \u001b[1;36m0\u001b[0m\u001b[1;33m:\u001b[0m\u001b[1;33m\u001b[0m\u001b[1;33m\u001b[0m\u001b[0m\n\u001b[1;32m----> 3\u001b[1;33m         \u001b[1;32mif\u001b[0m \u001b[0mselected_chains\u001b[0m \u001b[1;32mand\u001b[0m \u001b[0mn\u001b[0m\u001b[1;33m[\u001b[0m\u001b[1;36m0\u001b[0m\u001b[1;33m]\u001b[0m \u001b[1;32mnot\u001b[0m \u001b[1;32min\u001b[0m \u001b[0mselected_chains\u001b[0m\u001b[1;33m:\u001b[0m\u001b[1;33m\u001b[0m\u001b[1;33m\u001b[0m\u001b[0m\n\u001b[0m\u001b[0;32m      4\u001b[0m             \u001b[1;32mcontinue\u001b[0m\u001b[1;33m\u001b[0m\u001b[1;33m\u001b[0m\u001b[0m\n\u001b[0;32m      5\u001b[0m         \u001b[0mdipoles_net\u001b[0m\u001b[1;33m.\u001b[0m\u001b[0madd_node\u001b[0m\u001b[1;33m(\u001b[0m\u001b[0mn\u001b[0m\u001b[1;33m)\u001b[0m\u001b[1;33m\u001b[0m\u001b[1;33m\u001b[0m\u001b[0m\n",
      "\u001b[1;31mNameError\u001b[0m: name 'selected_chains' is not defined"
     ]
    }
   ],
   "source": [
    "for n, (res_type, charge) in nodes_charge.items():\n",
    "    if charge != 0:\n",
    "        if selected_chains and n[0] not in selected_chains:\n",
    "            continue\n",
    "        dipoles_net.add_node(n)\n",
    "        dipoles_net_plus.add_node(n)"
   ]
  },
  {
   "cell_type": "code",
   "execution_count": 11,
   "metadata": {},
   "outputs": [],
   "source": [
    "def treat_edge(u, v, ch_u, ch_v, edge_type, dipoles_net, dipoles_net_plus, interface_residues, weight=10):\n",
    "    if ch_u != 0 and ch_v != 0 and ch_v != ch_u:\n",
    "        dipoles_net.add_edge(u, v, weight=weight)\n",
    "    return\n",
    "\n",
    "for c in chains_list:\n",
    "    \n",
    "    if c == chains_list[-1]:\n",
    "        c_previous = chains_list[chains_list.index(c) - 1]\n",
    "        c_next = chains_list[0]\n",
    "    elif c == chains_list[0]:\n",
    "        c_previous = chains_list[- 1]\n",
    "        c_next = chains_list[chains_list.index(c) + 1]\n",
    "    else:\n",
    "        c_previous = chains_list[chains_list.index(c) - 1]\n",
    "        c_next = chains_list[chains_list.index(c) + 1]\n",
    "        \n",
    "    for pos_u, pos_v, edge_type in count_edges:\n",
    "\n",
    "        if count_edges[(pos_u, pos_v, edge_type)] >= len(chains_list) - 1:\n",
    "            _, ch_u = nodes_charge[c + pos_u]\n",
    "            _, ch_v = nodes_charge[c + pos_v]\n",
    "        \n",
    "            if edge_type == \"intra\":\n",
    "                u = c + pos_u\n",
    "                v = c + pos_v\n",
    "                if ch_u != 0 and ch_v != 0 and ch_v != ch_u:\n",
    "                    dipoles_net.add_edge(u, v)\n",
    "            else:\n",
    "                u = c + pos_u\n",
    "                v = c_next + pos_v\n",
    "                if ch_u != 0 and ch_v != 0 and ch_v != ch_u:\n",
    "                    dipoles_net.add_edge(u, v)\n",
    "\n",
    "                u = c_previous + pos_u\n",
    "                v = c + pos_v\n",
    "                if ch_u != 0 and ch_v != 0 and ch_v != ch_u:\n",
    "                    dipoles_net.add_edge(u, v)"
   ]
  },
  {
   "cell_type": "markdown",
   "metadata": {},
   "source": [
    "Calculate connected components:"
   ]
  },
  {
   "cell_type": "code",
   "execution_count": 12,
   "metadata": {},
   "outputs": [],
   "source": [
    "connected_components = nx.connected_components(dipoles_net)\n",
    "with open(os.path.join(folder_path, name + \"_connected_components.txt\"), \"w\") as f:\n",
    "    for c in list(connected_components):\n",
    "        C = dipoles_net.subgraph(c)\n",
    "        f.write(str(c) + \": \" + str(len(C.edges)) + \" edges\\n\")\n",
    "    f.write(\"total number of connected components: \" + str(nx.number_connected_components(dipoles_net)))"
   ]
  },
  {
   "cell_type": "markdown",
   "metadata": {},
   "source": [
    "Add node attributes and save the Electrostatic Network as edge list (`\"edges_list_electrostatic_net.csv`) and `electrostatic_net.gexf`, that can be opened with the Gephi software."
   ]
  },
  {
   "cell_type": "code",
   "execution_count": 13,
   "metadata": {},
   "outputs": [],
   "source": [
    "import tools.amino_acids_conversion as aac"
   ]
  },
  {
   "cell_type": "code",
   "execution_count": 14,
   "metadata": {},
   "outputs": [
    {
     "data": {
      "text/plain": [
       "<networkx.classes.graph.Graph at 0x22828ff99e8>"
      ]
     },
     "execution_count": 14,
     "metadata": {},
     "output_type": "execute_result"
    }
   ],
   "source": [
    "# relabel to use net_to_cmd script and save binary file (for vmd script) and gexf file (for gephi)\n",
    "\n",
    "labels = {}\n",
    "chains = {}\n",
    "positions = {}\n",
    "for n in dipoles_net.nodes:\n",
    "    chain = n[0]\n",
    "    pos = n[1::]\n",
    "    positions[n] = pos\n",
    "    aatype, _ = nodes_charge[n]\n",
    "    labels[n] = f\"{aac.three2one(aatype)}{pos}:{chain}\"\n",
    "    chains[n] = chain\n",
    "\n",
    "nx.set_node_attributes(dipoles_net, labels, name='label')\n",
    "nx.set_node_attributes(dipoles_net, positions, name='position')\n",
    "nx.set_node_attributes(dipoles_net, chains, name='chain')\n",
    "    \n",
    "nx.relabel_nodes(dipoles_net, labels, copy=False)"
   ]
  },
  {
   "cell_type": "code",
   "execution_count": 15,
   "metadata": {},
   "outputs": [],
   "source": [
    "nx.write_edgelist(dipoles_net, os.path.join(folder_path, dim + \"edges_list_electrostatic_net.csv\"), delimiter=',', data=False)"
   ]
  },
  {
   "cell_type": "code",
   "execution_count": 16,
   "metadata": {},
   "outputs": [],
   "source": [
    "nx.write_gexf(dipoles_net, os.path.join(folder_path, \"electrostatic_net.gexf\"))"
   ]
  },
  {
   "cell_type": "markdown",
   "metadata": {},
   "source": [
    "Save a .gexf file of the subnetwork of the nodes of chain `selected_chain_subnet` and its neighbors"
   ]
  },
  {
   "cell_type": "code",
   "execution_count": 17,
   "metadata": {},
   "outputs": [],
   "source": [
    "dipoles_subnet_chain = nx.Graph()\n",
    "for u, v in dipoles_net.edges:\n",
    "    if u[-1] == selected_chain_subnet or v[-1] == selected_chain_subnet:\n",
    "        dipoles_subnet_chain.add_edge(u, v)\n",
    "\n",
    "chains_sub = {n: n[-1] for n in dipoles_subnet_chain.nodes}\n",
    "positions_sub = {n: n[1:-2] for n in dipoles_subnet_chain.nodes}\n",
    "\n",
    "nx.set_node_attributes(dipoles_subnet_chain, positions_sub, name='position')\n",
    "nx.set_node_attributes(dipoles_subnet_chain, chains_sub, name='chain')\n",
    "\n",
    "nx.write_gexf(dipoles_subnet_chain, os.path.join(folder_path, \"electrostatic_net_chain%s.gexf\" %selected_chain_subnet))"
   ]
  },
  {
   "cell_type": "code",
   "execution_count": null,
   "metadata": {},
   "outputs": [],
   "source": []
  }
 ],
 "metadata": {
  "kernelspec": {
   "display_name": "Python 3",
   "language": "python",
   "name": "python3"
  },
  "language_info": {
   "codemirror_mode": {
    "name": "ipython",
    "version": 3
   },
   "file_extension": ".py",
   "mimetype": "text/x-python",
   "name": "python",
   "nbconvert_exporter": "python",
   "pygments_lexer": "ipython3",
   "version": "3.6.10"
  }
 },
 "nbformat": 4,
 "nbformat_minor": 2
}
